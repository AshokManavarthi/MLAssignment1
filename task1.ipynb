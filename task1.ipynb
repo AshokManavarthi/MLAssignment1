{
 "cells": [
  {
   "cell_type": "code",
   "execution_count": 5,
   "id": "997b6ecb",
   "metadata": {},
   "outputs": [
    {
     "name": "stdout",
     "output_type": "stream",
     "text": [
      "Sorted list\n",
      "[19, 19, 20, 22, 24, 24, 24, 25, 25, 26]\n",
      "Minmum Value:  19\n",
      "Maximum Value:  26\n",
      "List after add min and max value:  [19, 19, 20, 22, 24, 24, 24, 25, 25, 26, 19, 26]\n",
      "Median age\n",
      "24.0\n",
      "Average Age\n",
      "22.75\n",
      "Range of ages\n",
      "7\n"
     ]
    }
   ],
   "source": [
    "ages_given = [19, 22, 19, 24, 20, 25, 26, 24, 25, 24]\n",
    "# sort the list and find the min and max age\n",
    "for n in range(len(ages_given)-1, 0, -1):\n",
    "\tfor i in range(n):\n",
    "\t\tif ages_given[i] > ages_given[i + 1]:\n",
    "\t\t\tages_given[i], ages_given[i + 1] = ages_given[i + 1], ages_given[i]\n",
    "print(\"Sorted list\")\n",
    "print(ages_given)\n",
    "\n",
    "min_value = ages_given[0]\n",
    "max_value = ages_given[-1]\n",
    "print(\"Minmum Value: \", min_value)\n",
    "print(\"Maximum Value: \", max_value)\n",
    "\n",
    "# add the min age and max age again to the list\n",
    "ages_given.append(min_value)\n",
    "ages_given.append(max_value)\n",
    "print(\"List after add min and max value: \", ages_given)\n",
    "\n",
    "# find the Median age of the list\n",
    "print(\"Median age\")\n",
    "if(len(ages_given) % 2 == 0):\n",
    "\tprint((ages_given[len(ages_given) // 2 - 1] + ages_given[len(ages_given) // 2]) / 2)\n",
    "else:\n",
    "\tprint(ages_given[len(ages_given) / 2])\n",
    "\n",
    "# find the Average age of the list\n",
    "print(\"Average Age\")\n",
    "sum_value = 0\n",
    "for i in range(len(ages_given)):\n",
    "\tsum_value += ages_given[i]\n",
    "print(sum_value / len(ages_given))\n",
    "\n",
    "# find the Range of ages\n",
    "print(\"Range of ages\")\n",
    "print(max_value - min_value)\n"
   ]
  },
  {
   "cell_type": "code",
   "execution_count": 6,
   "id": "55ecf4eb",
   "metadata": {},
   "outputs": [
    {
     "name": "stdout",
     "output_type": "stream",
     "text": [
      "Dog dictionary\n",
      "{'name': 'Tiger', 'color': 'Black', 'breed': 'Belgian malinois', 'legs': 4, 'age': 2}\n",
      "Student dictionary\n",
      "{'first_name': 'ASHOK', 'last_name': 'MANAVARTHI', 'gender': 'Male', 'age': 28, 'marital': 'Single', 'skills': ['Developer', 'Cloud', 'Cyber Security'], 'country': 'USA', 'city': 'Kansas', 'address': '1645s W 13th St, Olathe, KS 66062, USA'}\n",
      "Length of the student dictionary:  9\n",
      "Skills:  ['Developer', 'Cloud', 'Cyber Security']\n",
      "Data types:  <class 'list'>\n",
      "Modify the skills values \n",
      "{'first_name': 'ASHOK', 'last_name': 'MANAVARTHI', 'gender': 'Male', 'age': 28, 'marital': 'Single', 'skills': ['Developer', 'Cloud', 'Cyber Security', 'Architect'], 'country': 'USA', 'city': 'Kansas', 'address': '1645s W 13th St, Olathe, KS 66062, USA'}\n",
      "Get the dictionary keys\n",
      "['first_name', 'last_name', 'gender', 'age', 'marital', 'skills', 'country', 'city', 'address']\n",
      "Get the dictionary values\n",
      "['ASHOK', 'MANAVARTHI', 'Male', 28, 'Single', ['Developer', 'Cloud', 'Cyber Security', 'Architect'], 'USA', 'Kansas', '1645s W 13th St, Olathe, KS 66062, USA']\n"
     ]
    }
   ],
   "source": [
    "# create an empty dictionary called dog\n",
    "dog = {}\n",
    "\n",
    "# add name, color, breed, legs, age to the dog dictionary\n",
    "dog['name'] = 'Tiger'\n",
    "dog['color'] = 'Black'\n",
    "dog['breed'] = 'Belgian malinois'\n",
    "dog['legs'] = 4\n",
    "dog['age'] = 2\n",
    "print(\"Dog dictionary\")\n",
    "print(dog)\n",
    "\n",
    "# create a student dictionary and add first_name, last_name, gender, age, marital status, skills, country, city, address\n",
    "student = {}\n",
    "student['first_name'] = 'ASHOK'\n",
    "student['last_name'] = 'MANAVARTHI'\n",
    "student['gender'] = 'Male'\n",
    "student['age'] = 28\n",
    "student['marital'] = 'Single'\n",
    "student['skills'] = ['Developer', 'Cloud', 'Cyber Security']\n",
    "student['country'] = 'USA'\n",
    "student['city'] = 'Kansas'\n",
    "student['address'] = '1645s W 13th St, Olathe, KS 66062, USA'\n",
    "\n",
    "print(\"Student dictionary\")\n",
    "print(student)\n",
    "\n",
    "# get the length of the student dictionary\n",
    "print(\"Length of the student dictionary: \", len(student.keys()))\n",
    "\n",
    "# get the value of skills and check the data type. it should be a list\n",
    "print(\"Skills: \", student['skills'])\n",
    "print(\"Data types: \", type(student['skills']))\n",
    "\n",
    "# modify the skills values by adding one or two skills\n",
    "print(\"Modify the skills values \")\n",
    "student['skills'].append('Architect')\n",
    "print(student)\n",
    "\n",
    "# Get the dictionary keys as a list\n",
    "print(\"Get the dictionary keys\")\n",
    "keys = list(student.keys())\n",
    "print(keys)\n",
    "\n",
    "# get the dictionary values as a list\n",
    "print(\"Get the dictionary values\")\n",
    "print(list(student.values()))\n"
   ]
  },
  {
   "cell_type": "code",
   "execution_count": 7,
   "id": "d9d57a17",
   "metadata": {},
   "outputs": [
    {
     "name": "stdout",
     "output_type": "stream",
     "text": [
      "New tuple:  ('Ashok', 'Sahi', 'Chai', 'Viany', 'Gethu')\n",
      "Join brothers and sisters, assign it to siblings:  (('ASHOK Man', 'Viay Man'), ('Chai Bo', 'Gethu Bo'), ('Sahi Tat', 'Rajesh Tat'))\n",
      "Number of siblings:  3\n",
      "Family member:  (('ASHOK Man', 'Viay Man', ('Ram Man', 'Sha Man')), ('Chai Bo', 'Gethu Bo', ('Raj Bo', 'Dev Bo')), ('Sahi Tat', 'Rajesh Tat', ('Nar Tat', 'Sun Tat')))\n"
     ]
    }
   ],
   "source": [
    "# create a tuple containing names of your sisters and your brothers\n",
    "new_tuple = ('Ashok', 'Sahi', 'Chai', 'Viany', 'Gethu')\n",
    "print(\"New tuple: \", new_tuple)\n",
    "\n",
    "# join brother and sisters tuples and assign it to siblings\n",
    "siblings = (('ASHOK Man', 'Viay Man'), ('Chai Bo', 'Gethu Bo'), ('Sahi Tat', 'Rajesh Tat'))\n",
    "print(\"Join brothers and sisters, assign it to siblings: \", siblings)\n",
    "\n",
    "# How many siblings do you have\n",
    "num_siblings = 0\n",
    "for i in range(len(siblings)):\n",
    "\tif type(siblings[i]) == tuple:\n",
    "\t\tnum_siblings += 1\n",
    "print(\"Number of siblings: \", num_siblings)\n",
    "\n",
    "# Modify the siblings tuple and add the name of your father and mother and assign it to family_members\n",
    "family_members = ()\n",
    "siblings = list(siblings)\n",
    "siblings[0] = siblings[0] + ((\"Ram Man\", \"Sha Man\"),)\n",
    "siblings[1] += ((\"Raj Bo\", \"Dev Bo\"),)\n",
    "siblings[2] += ((\"Nar Tat\", \"Sun Tat\"),)\n",
    "\n",
    "family_members = tuple(siblings)\n",
    "print(\"Family member: \", family_members)\n"
   ]
  },
  {
   "cell_type": "code",
   "execution_count": 10,
   "id": "2c36c5e8",
   "metadata": {},
   "outputs": [
    {
     "name": "stdout",
     "output_type": "stream",
     "text": [
      "Length of the set it_companies,  7\n",
      "Add 'Twitter':  {'Apple', 'Twitter', 'Facebook', 'IBM', 'Microsoft', 'Google', 'Amazon', 'Oracle'}\n",
      "Insert multiple IT companies,  {'IBM', 'Oracle', 'Twitter', 'Garmin', 'KPMG', 'Google', 'Apple', 'Facebook', 'Microsoft', 'Amazon'}\n",
      "Remove one of the companies from it_companies:  {'IBM', 'Oracle', 'Twitter', 'KPMG', 'Google', 'Apple', 'Facebook', 'Microsoft', 'Amazon'}\n",
      "Join A and B:  {19, 20, 22, 24, 25, 26, 27, 28}\n",
      "Find A intersection B:  {19, 20, 22, 24, 25, 26}\n",
      "Is A subset of B:  True\n",
      "Are A and B disjoint sets?  False\n",
      "Join A with B:  {19, 20, 22, 24, 25, 26, 27, 28}\n",
      "Join B with A:  {19, 20, 22, 24, 25, 26, 27, 28}\n",
      "Delete the sets completely:  set()\n",
      "length of list ages:  8\n",
      "length of set ages:  5\n"
     ]
    }
   ],
   "source": [
    "it_companies = {'Facebook', 'Google', 'Microsoft', 'Apple', 'IBM', 'Oracle', 'Amazon'}\n",
    "A = {19, 22, 24, 20, 25, 26}\n",
    "B = {19, 22, 20, 25, 26, 24, 28, 27}\n",
    "ages = [22, 19, 24, 25, 26, 24, 25, 24]\n",
    "\n",
    "# find the lenght of the set it_companies\n",
    "print(\"Length of the set it_companies, \", len(list(set(it_companies))))\n",
    "\n",
    "# Add 'Twitter' to it_companies\n",
    "it_companies.add('Twitter')\n",
    "print(\"Add 'Twitter': \", it_companies)\n",
    "\n",
    "# Insert multiple IT companies at once to the set it_companies\n",
    "it_companies.add('Garmin')\n",
    "it_companies.add('KPMG')\n",
    "print('Insert multiple IT companies, ', it_companies)\n",
    "\n",
    "# Remove one of the companies from the set it_companies\n",
    "it_companies.remove(\"Garmin\")\n",
    "print(\"Remove one of the companies from it_companies: \", it_companies)\n",
    "\n",
    "# What is the difference between remove and discard\n",
    "# The remove() method raises an error when the specified element doesn't exist in the given set, however the discard() method doesn't raise any error if the specified element is not present in the set and the set remains unchanged.\n",
    "\n",
    "# Join A and B\n",
    "print(\"Join A and B: \", A.union(B))\n",
    "\n",
    "# Find A intersection B\n",
    "print(\"Find A intersection B: \", A.intersection(B))\n",
    "\n",
    "# Is A subset of B\n",
    "print(\"Is A subset of B: \", A.issubset(B))\n",
    "\n",
    "# Are A and B disjoint sets\n",
    "print(\"Are A and B disjoint sets? \", A.isdisjoint(B))\n",
    "\n",
    "# Join A with B and B with A\n",
    "print(\"Join A with B: \", A.union(B))\n",
    "print(\"Join B with A: \", B.union(A))\n",
    "\n",
    "# What is the symmetric difference between A and B\n",
    "# from Last element is not symmetric\n",
    "\n",
    "# Delete the sets completely\n",
    "A.clear()\n",
    "B.clear()\n",
    "\n",
    "print(\"Delete the sets completely: \", A)\n",
    "\n",
    "# Convert the ages to a set and compare the length of the list and the list\n",
    "ages_set = set(ages)\n",
    "\n",
    "print(\"length of list ages: \", len(ages))\n",
    "print(\"length of set ages: \", len(ages_set))\n"
   ]
  },
  {
   "cell_type": "code",
   "execution_count": 11,
   "id": "8a7aebcf",
   "metadata": {},
   "outputs": [
    {
     "name": "stdout",
     "output_type": "stream",
     "text": [
      "Area of circle:  2826.0\n",
      "Circumference of a circle:  188.4\n",
      "Please input radius: 10\n",
      "Area of circle:  314.0\n"
     ]
    }
   ],
   "source": [
    "# Calculate the area of a circle and assign the value to a variable name of _area_of_circle_\n",
    "radius = 30\n",
    "_area_of_circle_ = 3.14 * radius * radius\n",
    "print(\"Area of circle: \", _area_of_circle_)\n",
    "\n",
    "# Calculate the circumference of a circle and assign the value to a variable name of _circum_of_circle_\n",
    "_circum_of_circle_ = 2 * 3.14 * radius\n",
    "print(\"Circumference of a circle: \", _circum_of_circle_)\n",
    "\n",
    "# Take radius as user input and calculate the area\n",
    "radius_ = int(input(\"Please input radius: \"))\n",
    "_area_of_circle_ = 3.14 * radius_ * radius_\n",
    "print(\"Area of circle: \", _area_of_circle_)\n"
   ]
  },
  {
   "cell_type": "code",
   "execution_count": 12,
   "id": "cbb39012",
   "metadata": {},
   "outputs": [
    {
     "name": "stdout",
     "output_type": "stream",
     "text": [
      "Number of Unique words:  10\n"
     ]
    }
   ],
   "source": [
    "sentence = \"I am a teacher and I love to inspire and teach people\"\n",
    "\n",
    "# how many unique words have been used in the sentence? Use the split methods and set to get the unique words.\n",
    "words = [n.lower() for n in sentence.split(\" \")]\n",
    "print(\"Number of Unique words: \", len(list(set(words))))\n"
   ]
  },
  {
   "cell_type": "code",
   "execution_count": 13,
   "id": "3a56660f",
   "metadata": {},
   "outputs": [
    {
     "name": "stdout",
     "output_type": "stream",
     "text": [
      "Name\tAge\tCountry\tCity\n",
      "Asabeneh\t250\tFinland\tHelsinki\n"
     ]
    }
   ],
   "source": [
    "# Use a tabe esapce sequence to get the following lines.\n",
    "print(\"Name\\tAge\\tCountry\\tCity\\nAsabeneh\\t250\\tFinland\\tHelsinki\")\n"
   ]
  },
  {
   "cell_type": "code",
   "execution_count": 14,
   "id": "a5a245e1",
   "metadata": {},
   "outputs": [
    {
     "name": "stdout",
     "output_type": "stream",
     "text": [
      "The area of a circle with radius 10 is 314 meters square.\n"
     ]
    }
   ],
   "source": [
    "# Use the string formatting method to display the following\n",
    "radius = 10\n",
    "area = 3.14 * radius ** 2\n",
    "\n",
    "print(f\"The area of a circle with radius {radius} is {int(area)} meters square.\")\n"
   ]
  },
  {
   "cell_type": "code",
   "execution_count": 1,
   "id": "e88cc4c9",
   "metadata": {},
   "outputs": [
    {
     "name": "stdout",
     "output_type": "stream",
     "text": [
      "Enter number of students: 2\n",
      "Enter the student weight in lbs: 200\n",
      "Enter the student weight in lbs: 180\n",
      "[200.0, 180.0]\n",
      "[81.65, 81.65]\n"
     ]
    }
   ],
   "source": [
    "conv = 0.45359237\n",
    "N = int(input(\"Enter number of students: \"))\n",
    "students = []\n",
    "for i in range(N):\n",
    "\tlbs = input(\"Enter the student weight in lbs: \")\n",
    "\tstudents.append(float(lbs))\n",
    "print(students)\n",
    "\n",
    "output = []\n",
    "for i in range(len(students)):\n",
    "\toutput.append(round(float(lbs) * conv, 2))\n",
    "print(output)\n"
   ]
  },
  {
   "cell_type": "code",
   "execution_count": 2,
   "id": "29b1d867",
   "metadata": {},
   "outputs": [
    {
     "name": "stdout",
     "output_type": "stream",
     "text": [
      "Predict value: \n",
      "[1, 1, 1, 1]\n",
      "Confusion Matrix\n",
      "[[0 0]\n",
      " [1 3]]\n",
      "Accuracy:  0.75\n",
      "Sensitivity:  nan\n",
      "Specificity:  0.0\n"
     ]
    },
    {
     "name": "stderr",
     "output_type": "stream",
     "text": [
      "C:\\Users\\ashok\\AppData\\Local\\Temp\\ipykernel_26544\\1900647827.py:33: RuntimeWarning: invalid value encountered in longlong_scalars\n",
      "  sensetivity = conf[0][0] / (conf[0][0] + conf[0][1])\n"
     ]
    }
   ],
   "source": [
    "x = [1, 2, 3, 6, 6, 7, 10, 11]\n",
    "data = [1, 1, 0, 0, 0, 1, 1, 1]\n",
    "first = [0, 1, 2, 3]\n",
    "second = [4, 5, 6, 7]\n",
    "\n",
    "from sklearn.neighbors import KNeighborsRegressor\n",
    "regressor = KNeighborsRegressor(n_neighbors=3)\n",
    "x_train = [[x[t]] for t in first]\n",
    "y_train = [[data[t]] for t in first]\n",
    "regressor.fit(x_train, y_train)\n",
    "x_test = [[x[t]] for t in second]\n",
    "y_test = [[data[t]] for t in second]\n",
    "y_pred = regressor.predict(x_test)\n",
    "y_ = []\n",
    "for i in range(len(y_pred)):\n",
    "\tif y_pred[0] > 0.1:\n",
    "\t\ty_.append(1)\n",
    "\telse:\n",
    "\t\ty_.append(0)\n",
    "print(\"Predict value: \")\n",
    "print(y_)\n",
    "\n",
    "# Compute the confusion matrix for this and calculate accuracy, sensitivity and specificity values.\n",
    "from sklearn.metrics import confusion_matrix\n",
    "from sklearn.metrics import accuracy_score\n",
    "conf = confusion_matrix(y_, y_test)\n",
    "print(\"Confusion Matrix\")\n",
    "print(conf)\n",
    "\n",
    "accuracy = accuracy_score(y_, y_test)\n",
    "print(\"Accuracy: \", accuracy)\n",
    "\n",
    "sensetivity = conf[0][0] / (conf[0][0] + conf[0][1])\n",
    "print(\"Sensitivity: \", sensetivity)\n",
    "\n",
    "specificity = conf[0][0] / (conf[0][0] + conf[1][0])\n",
    "print(\"Specificity: \", specificity)\n",
    "\n"
   ]
  },
  {
   "cell_type": "code",
   "execution_count": null,
   "id": "c90c5eeb",
   "metadata": {},
   "outputs": [],
   "source": []
  }
 ],
 "metadata": {
  "kernelspec": {
   "display_name": "Python 3 (ipykernel)",
   "language": "python",
   "name": "python3"
  },
  "language_info": {
   "codemirror_mode": {
    "name": "ipython",
    "version": 3
   },
   "file_extension": ".py",
   "mimetype": "text/x-python",
   "name": "python",
   "nbconvert_exporter": "python",
   "pygments_lexer": "ipython3",
   "version": "3.9.13"
  }
 },
 "nbformat": 4,
 "nbformat_minor": 5
}
